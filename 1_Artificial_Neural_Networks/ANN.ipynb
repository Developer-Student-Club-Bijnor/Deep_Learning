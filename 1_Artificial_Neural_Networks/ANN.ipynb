{
  "nbformat": 4,
  "nbformat_minor": 0,
  "metadata": {
    "language_info": {
      "name": "python",
      "codemirror_mode": {
        "name": "ipython",
        "version": 3
      },
      "version": "3.7.6-final"
    },
    "orig_nbformat": 2,
    "file_extension": ".py",
    "mimetype": "text/x-python",
    "name": "python",
    "npconvert_exporter": "python",
    "pygments_lexer": "ipython3",
    "version": 3,
    "kernelspec": {
      "name": "python3",
      "display_name": "Python 3"
    },
    "colab": {
      "name": "ANN.ipynb",
      "provenance": [],
      "toc_visible": true,
      "include_colab_link": true
    }
  },
  "cells": [
    {
      "cell_type": "markdown",
      "metadata": {
        "id": "view-in-github",
        "colab_type": "text"
      },
      "source": [
        "<a href=\"https://colab.research.google.com/github/its-Kumar/Deep_Learning/blob/master/1_Artificial_Neural_Networks/ANN.ipynb\" target=\"_parent\"><img src=\"https://colab.research.google.com/assets/colab-badge.svg\" alt=\"Open In Colab\"/></a>"
      ]
    },
    {
      "cell_type": "markdown",
      "metadata": {
        "id": "OV-9qcIJmOow",
        "colab_type": "text"
      },
      "source": [
        "# Artificial Neural Network"
      ]
    },
    {
      "cell_type": "markdown",
      "metadata": {
        "id": "gz2e60mymOpW",
        "colab_type": "text"
      },
      "source": [
        "## Part 1 - Data Preprocessing\n"
      ]
    },
    {
      "cell_type": "markdown",
      "metadata": {
        "id": "tPsyo8sdnJuQ",
        "colab_type": "text"
      },
      "source": [
        "### Importing the libraries\n"
      ]
    },
    {
      "cell_type": "code",
      "metadata": {
        "id": "vlnfAJ6nmOpY",
        "colab_type": "code",
        "colab": {
          "base_uri": "https://localhost:8080/",
          "height": 35
        },
        "outputId": "982aeeda-04af-458c-edf8-0e61e1a2009f"
      },
      "source": [
        "import numpy as np\n",
        "import pandas as pd\n",
        "import tensorflow as tf\n",
        "import tensorflow.keras as keras\n",
        "tf.__version__"
      ],
      "execution_count": 1,
      "outputs": [
        {
          "output_type": "execute_result",
          "data": {
            "application/vnd.google.colaboratory.intrinsic+json": {
              "type": "string"
            },
            "text/plain": [
              "'2.2.0'"
            ]
          },
          "metadata": {
            "tags": []
          },
          "execution_count": 1
        }
      ]
    },
    {
      "cell_type": "markdown",
      "metadata": {
        "id": "aiFHxj8Nna-l",
        "colab_type": "text"
      },
      "source": [
        "### Importing the dataset\n"
      ]
    },
    {
      "cell_type": "code",
      "metadata": {
        "id": "myMDnN3BmOpg",
        "colab_type": "code",
        "colab": {
          "base_uri": "https://localhost:8080/",
          "height": 439
        },
        "outputId": "fe913e98-db53-4ce6-814c-ed875f08c237"
      },
      "source": [
        "dataset = pd.read_csv('Churn_Modelling.csv')\n",
        "dataset"
      ],
      "execution_count": 2,
      "outputs": [
        {
          "output_type": "execute_result",
          "data": {
            "text/html": [
              "<div>\n",
              "<style scoped>\n",
              "    .dataframe tbody tr th:only-of-type {\n",
              "        vertical-align: middle;\n",
              "    }\n",
              "\n",
              "    .dataframe tbody tr th {\n",
              "        vertical-align: top;\n",
              "    }\n",
              "\n",
              "    .dataframe thead th {\n",
              "        text-align: right;\n",
              "    }\n",
              "</style>\n",
              "<table border=\"1\" class=\"dataframe\">\n",
              "  <thead>\n",
              "    <tr style=\"text-align: right;\">\n",
              "      <th></th>\n",
              "      <th>RowNumber</th>\n",
              "      <th>CustomerId</th>\n",
              "      <th>Surname</th>\n",
              "      <th>CreditScore</th>\n",
              "      <th>Geography</th>\n",
              "      <th>Gender</th>\n",
              "      <th>Age</th>\n",
              "      <th>Tenure</th>\n",
              "      <th>Balance</th>\n",
              "      <th>NumOfProducts</th>\n",
              "      <th>HasCrCard</th>\n",
              "      <th>IsActiveMember</th>\n",
              "      <th>EstimatedSalary</th>\n",
              "      <th>Exited</th>\n",
              "    </tr>\n",
              "  </thead>\n",
              "  <tbody>\n",
              "    <tr>\n",
              "      <th>0</th>\n",
              "      <td>1</td>\n",
              "      <td>15634602</td>\n",
              "      <td>Hargrave</td>\n",
              "      <td>619</td>\n",
              "      <td>France</td>\n",
              "      <td>Female</td>\n",
              "      <td>42</td>\n",
              "      <td>2</td>\n",
              "      <td>0.00</td>\n",
              "      <td>1</td>\n",
              "      <td>1</td>\n",
              "      <td>1</td>\n",
              "      <td>101348.88</td>\n",
              "      <td>1</td>\n",
              "    </tr>\n",
              "    <tr>\n",
              "      <th>1</th>\n",
              "      <td>2</td>\n",
              "      <td>15647311</td>\n",
              "      <td>Hill</td>\n",
              "      <td>608</td>\n",
              "      <td>Spain</td>\n",
              "      <td>Female</td>\n",
              "      <td>41</td>\n",
              "      <td>1</td>\n",
              "      <td>83807.86</td>\n",
              "      <td>1</td>\n",
              "      <td>0</td>\n",
              "      <td>1</td>\n",
              "      <td>112542.58</td>\n",
              "      <td>0</td>\n",
              "    </tr>\n",
              "    <tr>\n",
              "      <th>2</th>\n",
              "      <td>3</td>\n",
              "      <td>15619304</td>\n",
              "      <td>Onio</td>\n",
              "      <td>502</td>\n",
              "      <td>France</td>\n",
              "      <td>Female</td>\n",
              "      <td>42</td>\n",
              "      <td>8</td>\n",
              "      <td>159660.80</td>\n",
              "      <td>3</td>\n",
              "      <td>1</td>\n",
              "      <td>0</td>\n",
              "      <td>113931.57</td>\n",
              "      <td>1</td>\n",
              "    </tr>\n",
              "    <tr>\n",
              "      <th>3</th>\n",
              "      <td>4</td>\n",
              "      <td>15701354</td>\n",
              "      <td>Boni</td>\n",
              "      <td>699</td>\n",
              "      <td>France</td>\n",
              "      <td>Female</td>\n",
              "      <td>39</td>\n",
              "      <td>1</td>\n",
              "      <td>0.00</td>\n",
              "      <td>2</td>\n",
              "      <td>0</td>\n",
              "      <td>0</td>\n",
              "      <td>93826.63</td>\n",
              "      <td>0</td>\n",
              "    </tr>\n",
              "    <tr>\n",
              "      <th>4</th>\n",
              "      <td>5</td>\n",
              "      <td>15737888</td>\n",
              "      <td>Mitchell</td>\n",
              "      <td>850</td>\n",
              "      <td>Spain</td>\n",
              "      <td>Female</td>\n",
              "      <td>43</td>\n",
              "      <td>2</td>\n",
              "      <td>125510.82</td>\n",
              "      <td>1</td>\n",
              "      <td>1</td>\n",
              "      <td>1</td>\n",
              "      <td>79084.10</td>\n",
              "      <td>0</td>\n",
              "    </tr>\n",
              "    <tr>\n",
              "      <th>...</th>\n",
              "      <td>...</td>\n",
              "      <td>...</td>\n",
              "      <td>...</td>\n",
              "      <td>...</td>\n",
              "      <td>...</td>\n",
              "      <td>...</td>\n",
              "      <td>...</td>\n",
              "      <td>...</td>\n",
              "      <td>...</td>\n",
              "      <td>...</td>\n",
              "      <td>...</td>\n",
              "      <td>...</td>\n",
              "      <td>...</td>\n",
              "      <td>...</td>\n",
              "    </tr>\n",
              "    <tr>\n",
              "      <th>9995</th>\n",
              "      <td>9996</td>\n",
              "      <td>15606229</td>\n",
              "      <td>Obijiaku</td>\n",
              "      <td>771</td>\n",
              "      <td>France</td>\n",
              "      <td>Male</td>\n",
              "      <td>39</td>\n",
              "      <td>5</td>\n",
              "      <td>0.00</td>\n",
              "      <td>2</td>\n",
              "      <td>1</td>\n",
              "      <td>0</td>\n",
              "      <td>96270.64</td>\n",
              "      <td>0</td>\n",
              "    </tr>\n",
              "    <tr>\n",
              "      <th>9996</th>\n",
              "      <td>9997</td>\n",
              "      <td>15569892</td>\n",
              "      <td>Johnstone</td>\n",
              "      <td>516</td>\n",
              "      <td>France</td>\n",
              "      <td>Male</td>\n",
              "      <td>35</td>\n",
              "      <td>10</td>\n",
              "      <td>57369.61</td>\n",
              "      <td>1</td>\n",
              "      <td>1</td>\n",
              "      <td>1</td>\n",
              "      <td>101699.77</td>\n",
              "      <td>0</td>\n",
              "    </tr>\n",
              "    <tr>\n",
              "      <th>9997</th>\n",
              "      <td>9998</td>\n",
              "      <td>15584532</td>\n",
              "      <td>Liu</td>\n",
              "      <td>709</td>\n",
              "      <td>France</td>\n",
              "      <td>Female</td>\n",
              "      <td>36</td>\n",
              "      <td>7</td>\n",
              "      <td>0.00</td>\n",
              "      <td>1</td>\n",
              "      <td>0</td>\n",
              "      <td>1</td>\n",
              "      <td>42085.58</td>\n",
              "      <td>1</td>\n",
              "    </tr>\n",
              "    <tr>\n",
              "      <th>9998</th>\n",
              "      <td>9999</td>\n",
              "      <td>15682355</td>\n",
              "      <td>Sabbatini</td>\n",
              "      <td>772</td>\n",
              "      <td>Germany</td>\n",
              "      <td>Male</td>\n",
              "      <td>42</td>\n",
              "      <td>3</td>\n",
              "      <td>75075.31</td>\n",
              "      <td>2</td>\n",
              "      <td>1</td>\n",
              "      <td>0</td>\n",
              "      <td>92888.52</td>\n",
              "      <td>1</td>\n",
              "    </tr>\n",
              "    <tr>\n",
              "      <th>9999</th>\n",
              "      <td>10000</td>\n",
              "      <td>15628319</td>\n",
              "      <td>Walker</td>\n",
              "      <td>792</td>\n",
              "      <td>France</td>\n",
              "      <td>Female</td>\n",
              "      <td>28</td>\n",
              "      <td>4</td>\n",
              "      <td>130142.79</td>\n",
              "      <td>1</td>\n",
              "      <td>1</td>\n",
              "      <td>0</td>\n",
              "      <td>38190.78</td>\n",
              "      <td>0</td>\n",
              "    </tr>\n",
              "  </tbody>\n",
              "</table>\n",
              "<p>10000 rows × 14 columns</p>\n",
              "</div>"
            ],
            "text/plain": [
              "      RowNumber  CustomerId    Surname  ...  IsActiveMember EstimatedSalary Exited\n",
              "0             1    15634602   Hargrave  ...               1       101348.88      1\n",
              "1             2    15647311       Hill  ...               1       112542.58      0\n",
              "2             3    15619304       Onio  ...               0       113931.57      1\n",
              "3             4    15701354       Boni  ...               0        93826.63      0\n",
              "4             5    15737888   Mitchell  ...               1        79084.10      0\n",
              "...         ...         ...        ...  ...             ...             ...    ...\n",
              "9995       9996    15606229   Obijiaku  ...               0        96270.64      0\n",
              "9996       9997    15569892  Johnstone  ...               1       101699.77      0\n",
              "9997       9998    15584532        Liu  ...               1        42085.58      1\n",
              "9998       9999    15682355  Sabbatini  ...               0        92888.52      1\n",
              "9999      10000    15628319     Walker  ...               0        38190.78      0\n",
              "\n",
              "[10000 rows x 14 columns]"
            ]
          },
          "metadata": {
            "tags": []
          },
          "execution_count": 2
        }
      ]
    },
    {
      "cell_type": "code",
      "metadata": {
        "id": "DN4Ha5lvniif",
        "colab_type": "code",
        "colab": {
          "base_uri": "https://localhost:8080/",
          "height": 136
        },
        "outputId": "dfee93ff-5279-4fcb-bad8-c65bad1bae81"
      },
      "source": [
        "X = dataset.iloc[:, 3:-1].values\n",
        "y = dataset.iloc[:, -1].values\n",
        "X"
      ],
      "execution_count": 3,
      "outputs": [
        {
          "output_type": "execute_result",
          "data": {
            "text/plain": [
              "array([[619, 'France', 'Female', ..., 1, 1, 101348.88],\n",
              "       [608, 'Spain', 'Female', ..., 0, 1, 112542.58],\n",
              "       [502, 'France', 'Female', ..., 1, 0, 113931.57],\n",
              "       ...,\n",
              "       [709, 'France', 'Female', ..., 0, 1, 42085.58],\n",
              "       [772, 'Germany', 'Male', ..., 1, 0, 92888.52],\n",
              "       [792, 'France', 'Female', ..., 1, 0, 38190.78]], dtype=object)"
            ]
          },
          "metadata": {
            "tags": []
          },
          "execution_count": 3
        }
      ]
    },
    {
      "cell_type": "markdown",
      "metadata": {
        "id": "Utqv9mddmOpp",
        "colab_type": "text"
      },
      "source": [
        "### Encoding categorical data\n",
        "\n"
      ]
    },
    {
      "cell_type": "code",
      "metadata": {
        "id": "OJCOJ7ykmOp3",
        "colab_type": "code",
        "colab": {}
      },
      "source": [
        "from sklearn.preprocessing import LabelEncoder\n",
        "le = LabelEncoder()\n",
        "X[:, 2] = le.fit_transform(X[:, 2])"
      ],
      "execution_count": 4,
      "outputs": []
    },
    {
      "cell_type": "code",
      "metadata": {
        "id": "6fxp3xulmOpr",
        "colab_type": "code",
        "colab": {
          "base_uri": "https://localhost:8080/",
          "height": 51
        },
        "outputId": "d9079574-8b62-4f72-eb85-7bceb22926a2"
      },
      "source": [
        "from sklearn.preprocessing import OneHotEncoder\n",
        "from sklearn.compose import ColumnTransformer\n",
        "ct =  ColumnTransformer([('encoder', OneHotEncoder(), [1])],\n",
        "                        remainder='passthrough')\n",
        "X = ct.fit_transform(X)\n",
        "X[0]"
      ],
      "execution_count": 5,
      "outputs": [
        {
          "output_type": "execute_result",
          "data": {
            "text/plain": [
              "array([1.0, 0.0, 0.0, 619, 0, 42, 2, 0.0, 1, 1, 1, 101348.88],\n",
              "      dtype=object)"
            ]
          },
          "metadata": {
            "tags": []
          },
          "execution_count": 5
        }
      ]
    },
    {
      "cell_type": "markdown",
      "metadata": {
        "id": "admtiTOvos9Z",
        "colab_type": "text"
      },
      "source": [
        "### Splitting the dataset into the Training set and Test set\n"
      ]
    },
    {
      "cell_type": "code",
      "metadata": {
        "id": "laY-2mDUmOqO",
        "colab_type": "code",
        "colab": {}
      },
      "source": [
        "from sklearn.model_selection import train_test_split\n",
        "X_train, X_test, y_train, y_test = train_test_split(X, y,\n",
        "                                                    test_size=0.2,\n",
        "                                                    random_state=0)"
      ],
      "execution_count": 6,
      "outputs": []
    },
    {
      "cell_type": "markdown",
      "metadata": {
        "id": "stmQWhpqo4xO",
        "colab_type": "text"
      },
      "source": [
        "### Feature Scaling\n"
      ]
    },
    {
      "cell_type": "code",
      "metadata": {
        "id": "Jz5s-9PcmOqX",
        "colab_type": "code",
        "colab": {}
      },
      "source": [
        "from sklearn.preprocessing import StandardScaler\n",
        "sc = StandardScaler()\n",
        "X_train = sc.fit_transform(X_train)\n",
        "X_test = sc.transform(X_test)"
      ],
      "execution_count": 7,
      "outputs": []
    },
    {
      "cell_type": "markdown",
      "metadata": {
        "id": "IP1iYhnSmOqe",
        "colab_type": "text"
      },
      "source": [
        "## Part 2 - Now let's make the ANN!"
      ]
    },
    {
      "cell_type": "code",
      "metadata": {
        "id": "tnWBraeWmOqp",
        "colab_type": "code",
        "colab": {}
      },
      "source": [
        "# Initialising the ANN\n",
        "classifier = keras.models.Sequential()"
      ],
      "execution_count": 8,
      "outputs": []
    },
    {
      "cell_type": "code",
      "metadata": {
        "id": "4w81498JmOqw",
        "colab_type": "code",
        "colab": {}
      },
      "source": [
        "# Adding the input layer and the first hidden layer\n",
        "classifier.add(keras.layers.Dense(units=8,\n",
        "                                  activation='relu'))"
      ],
      "execution_count": 9,
      "outputs": []
    },
    {
      "cell_type": "code",
      "metadata": {
        "id": "xA9Ny-GFmOq3",
        "colab_type": "code",
        "colab": {}
      },
      "source": [
        "# Adding the second hidden layer\n",
        "classifier.add(keras.layers.Dense(units=8,\n",
        "                                  activation='relu'))"
      ],
      "execution_count": 10,
      "outputs": []
    },
    {
      "cell_type": "code",
      "metadata": {
        "id": "Ip2qAioDmOq_",
        "colab_type": "code",
        "colab": {}
      },
      "source": [
        "# Adding the output layer\n",
        "classifier.add(keras.layers.Dense(units=1,\n",
        "                                  activation='sigmoid'))"
      ],
      "execution_count": 11,
      "outputs": []
    },
    {
      "cell_type": "code",
      "metadata": {
        "id": "KTbHz5jymOrJ",
        "colab_type": "code",
        "colab": {}
      },
      "source": [
        "# Compiling the ANN\n",
        "classifier.compile(optimizer='adam',\n",
        "                   loss='binary_crossentropy',\n",
        "                   metrics = ['accuracy'])"
      ],
      "execution_count": 12,
      "outputs": []
    },
    {
      "cell_type": "code",
      "metadata": {
        "id": "KmAtqXC3mOrR",
        "colab_type": "code",
        "colab": {
          "base_uri": "https://localhost:8080/",
          "height": 1000
        },
        "outputId": "d1e85c4a-632d-435f-f282-f367b93a294a"
      },
      "source": [
        "# Fitting the ANN to the Training set\n",
        "classifier.fit(X_train, y_train,\n",
        "               batch_size=25,\n",
        "               epochs=100)"
      ],
      "execution_count": 13,
      "outputs": [
        {
          "output_type": "stream",
          "text": [
            "Epoch 1/100\n",
            "320/320 [==============================] - 0s 1ms/step - loss: 0.5886 - accuracy: 0.6921\n",
            "Epoch 2/100\n",
            "320/320 [==============================] - 0s 1ms/step - loss: 0.4485 - accuracy: 0.8075\n",
            "Epoch 3/100\n",
            "320/320 [==============================] - 0s 1ms/step - loss: 0.4194 - accuracy: 0.8152\n",
            "Epoch 4/100\n",
            "320/320 [==============================] - 0s 1ms/step - loss: 0.4026 - accuracy: 0.8230\n",
            "Epoch 5/100\n",
            "320/320 [==============================] - 0s 1ms/step - loss: 0.3868 - accuracy: 0.8334\n",
            "Epoch 6/100\n",
            "320/320 [==============================] - 0s 1ms/step - loss: 0.3717 - accuracy: 0.8451\n",
            "Epoch 7/100\n",
            "320/320 [==============================] - 0s 1ms/step - loss: 0.3605 - accuracy: 0.8510\n",
            "Epoch 8/100\n",
            "320/320 [==============================] - 0s 1ms/step - loss: 0.3527 - accuracy: 0.8544\n",
            "Epoch 9/100\n",
            "320/320 [==============================] - 0s 1ms/step - loss: 0.3482 - accuracy: 0.8555\n",
            "Epoch 10/100\n",
            "320/320 [==============================] - 0s 1ms/step - loss: 0.3456 - accuracy: 0.8568\n",
            "Epoch 11/100\n",
            "320/320 [==============================] - 0s 1ms/step - loss: 0.3437 - accuracy: 0.8584\n",
            "Epoch 12/100\n",
            "320/320 [==============================] - 0s 1ms/step - loss: 0.3424 - accuracy: 0.8577\n",
            "Epoch 13/100\n",
            "320/320 [==============================] - 0s 1ms/step - loss: 0.3412 - accuracy: 0.8590\n",
            "Epoch 14/100\n",
            "320/320 [==============================] - 0s 1ms/step - loss: 0.3401 - accuracy: 0.8583\n",
            "Epoch 15/100\n",
            "320/320 [==============================] - 0s 1ms/step - loss: 0.3399 - accuracy: 0.8595\n",
            "Epoch 16/100\n",
            "320/320 [==============================] - 0s 1ms/step - loss: 0.3390 - accuracy: 0.8591\n",
            "Epoch 17/100\n",
            "320/320 [==============================] - 0s 1ms/step - loss: 0.3374 - accuracy: 0.8599\n",
            "Epoch 18/100\n",
            "320/320 [==============================] - 0s 1ms/step - loss: 0.3373 - accuracy: 0.8601\n",
            "Epoch 19/100\n",
            "320/320 [==============================] - 0s 1ms/step - loss: 0.3368 - accuracy: 0.8600\n",
            "Epoch 20/100\n",
            "320/320 [==============================] - 0s 1ms/step - loss: 0.3359 - accuracy: 0.8622\n",
            "Epoch 21/100\n",
            "320/320 [==============================] - 0s 1ms/step - loss: 0.3360 - accuracy: 0.8605\n",
            "Epoch 22/100\n",
            "320/320 [==============================] - 0s 1ms/step - loss: 0.3343 - accuracy: 0.8622\n",
            "Epoch 23/100\n",
            "320/320 [==============================] - 0s 1ms/step - loss: 0.3351 - accuracy: 0.8608\n",
            "Epoch 24/100\n",
            "320/320 [==============================] - 0s 1ms/step - loss: 0.3345 - accuracy: 0.8608\n",
            "Epoch 25/100\n",
            "320/320 [==============================] - 0s 1ms/step - loss: 0.3344 - accuracy: 0.8625\n",
            "Epoch 26/100\n",
            "320/320 [==============================] - 0s 1ms/step - loss: 0.3341 - accuracy: 0.8606\n",
            "Epoch 27/100\n",
            "320/320 [==============================] - 0s 1ms/step - loss: 0.3339 - accuracy: 0.8602\n",
            "Epoch 28/100\n",
            "320/320 [==============================] - 0s 1ms/step - loss: 0.3340 - accuracy: 0.8626\n",
            "Epoch 29/100\n",
            "320/320 [==============================] - 0s 1ms/step - loss: 0.3336 - accuracy: 0.8616\n",
            "Epoch 30/100\n",
            "320/320 [==============================] - 0s 1ms/step - loss: 0.3331 - accuracy: 0.8635\n",
            "Epoch 31/100\n",
            "320/320 [==============================] - 0s 1ms/step - loss: 0.3333 - accuracy: 0.8626\n",
            "Epoch 32/100\n",
            "320/320 [==============================] - 0s 1ms/step - loss: 0.3331 - accuracy: 0.8612\n",
            "Epoch 33/100\n",
            "320/320 [==============================] - 0s 1ms/step - loss: 0.3327 - accuracy: 0.8625\n",
            "Epoch 34/100\n",
            "320/320 [==============================] - 0s 1ms/step - loss: 0.3323 - accuracy: 0.8636\n",
            "Epoch 35/100\n",
            "320/320 [==============================] - 0s 1ms/step - loss: 0.3327 - accuracy: 0.8629\n",
            "Epoch 36/100\n",
            "320/320 [==============================] - 0s 1ms/step - loss: 0.3322 - accuracy: 0.8630\n",
            "Epoch 37/100\n",
            "320/320 [==============================] - 0s 1ms/step - loss: 0.3319 - accuracy: 0.8634\n",
            "Epoch 38/100\n",
            "320/320 [==============================] - 0s 1ms/step - loss: 0.3317 - accuracy: 0.8625\n",
            "Epoch 39/100\n",
            "320/320 [==============================] - 0s 1ms/step - loss: 0.3322 - accuracy: 0.8627\n",
            "Epoch 40/100\n",
            "320/320 [==============================] - 0s 1ms/step - loss: 0.3313 - accuracy: 0.8650\n",
            "Epoch 41/100\n",
            "320/320 [==============================] - 0s 1ms/step - loss: 0.3310 - accuracy: 0.8612\n",
            "Epoch 42/100\n",
            "320/320 [==============================] - 0s 1ms/step - loss: 0.3315 - accuracy: 0.8631\n",
            "Epoch 43/100\n",
            "320/320 [==============================] - 0s 1ms/step - loss: 0.3313 - accuracy: 0.8619\n",
            "Epoch 44/100\n",
            "320/320 [==============================] - 0s 1ms/step - loss: 0.3316 - accuracy: 0.8622\n",
            "Epoch 45/100\n",
            "320/320 [==============================] - 0s 1ms/step - loss: 0.3306 - accuracy: 0.8645\n",
            "Epoch 46/100\n",
            "320/320 [==============================] - 0s 1ms/step - loss: 0.3313 - accuracy: 0.8615\n",
            "Epoch 47/100\n",
            "320/320 [==============================] - 0s 1ms/step - loss: 0.3314 - accuracy: 0.8622\n",
            "Epoch 48/100\n",
            "320/320 [==============================] - 0s 1ms/step - loss: 0.3305 - accuracy: 0.8620\n",
            "Epoch 49/100\n",
            "320/320 [==============================] - 0s 1ms/step - loss: 0.3303 - accuracy: 0.8624\n",
            "Epoch 50/100\n",
            "320/320 [==============================] - 0s 1ms/step - loss: 0.3304 - accuracy: 0.8612\n",
            "Epoch 51/100\n",
            "320/320 [==============================] - 0s 1ms/step - loss: 0.3300 - accuracy: 0.8625\n",
            "Epoch 52/100\n",
            "320/320 [==============================] - 0s 1ms/step - loss: 0.3300 - accuracy: 0.8618\n",
            "Epoch 53/100\n",
            "320/320 [==============================] - 0s 1ms/step - loss: 0.3301 - accuracy: 0.8635\n",
            "Epoch 54/100\n",
            "320/320 [==============================] - 0s 1ms/step - loss: 0.3297 - accuracy: 0.8621\n",
            "Epoch 55/100\n",
            "320/320 [==============================] - 0s 1ms/step - loss: 0.3299 - accuracy: 0.8615\n",
            "Epoch 56/100\n",
            "320/320 [==============================] - 0s 1ms/step - loss: 0.3300 - accuracy: 0.8622\n",
            "Epoch 57/100\n",
            "320/320 [==============================] - 0s 1ms/step - loss: 0.3298 - accuracy: 0.8609\n",
            "Epoch 58/100\n",
            "320/320 [==============================] - 0s 1ms/step - loss: 0.3294 - accuracy: 0.8633\n",
            "Epoch 59/100\n",
            "320/320 [==============================] - 0s 1ms/step - loss: 0.3291 - accuracy: 0.8618\n",
            "Epoch 60/100\n",
            "320/320 [==============================] - 0s 1ms/step - loss: 0.3296 - accuracy: 0.8633\n",
            "Epoch 61/100\n",
            "320/320 [==============================] - 0s 1ms/step - loss: 0.3293 - accuracy: 0.8625\n",
            "Epoch 62/100\n",
            "320/320 [==============================] - 0s 2ms/step - loss: 0.3285 - accuracy: 0.8645\n",
            "Epoch 63/100\n",
            "320/320 [==============================] - 0s 1ms/step - loss: 0.3290 - accuracy: 0.8624\n",
            "Epoch 64/100\n",
            "320/320 [==============================] - 0s 1ms/step - loss: 0.3286 - accuracy: 0.8624\n",
            "Epoch 65/100\n",
            "320/320 [==============================] - 0s 1ms/step - loss: 0.3286 - accuracy: 0.8635\n",
            "Epoch 66/100\n",
            "320/320 [==============================] - 0s 1ms/step - loss: 0.3285 - accuracy: 0.8620\n",
            "Epoch 67/100\n",
            "320/320 [==============================] - 0s 1ms/step - loss: 0.3282 - accuracy: 0.8625\n",
            "Epoch 68/100\n",
            "320/320 [==============================] - 0s 1ms/step - loss: 0.3285 - accuracy: 0.8621\n",
            "Epoch 69/100\n",
            "320/320 [==============================] - 0s 1ms/step - loss: 0.3284 - accuracy: 0.8626\n",
            "Epoch 70/100\n",
            "320/320 [==============================] - 0s 1ms/step - loss: 0.3287 - accuracy: 0.8621\n",
            "Epoch 71/100\n",
            "320/320 [==============================] - 0s 1ms/step - loss: 0.3280 - accuracy: 0.8633\n",
            "Epoch 72/100\n",
            "320/320 [==============================] - 0s 1ms/step - loss: 0.3281 - accuracy: 0.8635\n",
            "Epoch 73/100\n",
            "320/320 [==============================] - 0s 1ms/step - loss: 0.3281 - accuracy: 0.8640\n",
            "Epoch 74/100\n",
            "320/320 [==============================] - 0s 1ms/step - loss: 0.3278 - accuracy: 0.8626\n",
            "Epoch 75/100\n",
            "320/320 [==============================] - 0s 1ms/step - loss: 0.3275 - accuracy: 0.8645\n",
            "Epoch 76/100\n",
            "320/320 [==============================] - 0s 1ms/step - loss: 0.3276 - accuracy: 0.8621\n",
            "Epoch 77/100\n",
            "320/320 [==============================] - 0s 1ms/step - loss: 0.3271 - accuracy: 0.8640\n",
            "Epoch 78/100\n",
            "320/320 [==============================] - 0s 1ms/step - loss: 0.3280 - accuracy: 0.8641\n",
            "Epoch 79/100\n",
            "320/320 [==============================] - 0s 1ms/step - loss: 0.3273 - accuracy: 0.8643\n",
            "Epoch 80/100\n",
            "320/320 [==============================] - 0s 1ms/step - loss: 0.3274 - accuracy: 0.8636\n",
            "Epoch 81/100\n",
            "320/320 [==============================] - 0s 1ms/step - loss: 0.3270 - accuracy: 0.8643\n",
            "Epoch 82/100\n",
            "320/320 [==============================] - 0s 1ms/step - loss: 0.3274 - accuracy: 0.8648\n",
            "Epoch 83/100\n",
            "320/320 [==============================] - 0s 1ms/step - loss: 0.3273 - accuracy: 0.8644\n",
            "Epoch 84/100\n",
            "320/320 [==============================] - 0s 1ms/step - loss: 0.3272 - accuracy: 0.8641\n",
            "Epoch 85/100\n",
            "320/320 [==============================] - 0s 1ms/step - loss: 0.3269 - accuracy: 0.8626\n",
            "Epoch 86/100\n",
            "320/320 [==============================] - 0s 1ms/step - loss: 0.3268 - accuracy: 0.8635\n",
            "Epoch 87/100\n",
            "320/320 [==============================] - 0s 1ms/step - loss: 0.3269 - accuracy: 0.8637\n",
            "Epoch 88/100\n",
            "320/320 [==============================] - 0s 1ms/step - loss: 0.3270 - accuracy: 0.8649\n",
            "Epoch 89/100\n",
            "320/320 [==============================] - 0s 1ms/step - loss: 0.3266 - accuracy: 0.8641\n",
            "Epoch 90/100\n",
            "320/320 [==============================] - 0s 1ms/step - loss: 0.3263 - accuracy: 0.8643\n",
            "Epoch 91/100\n",
            "320/320 [==============================] - 0s 1ms/step - loss: 0.3266 - accuracy: 0.8633\n",
            "Epoch 92/100\n",
            "320/320 [==============================] - 0s 1ms/step - loss: 0.3261 - accuracy: 0.8660\n",
            "Epoch 93/100\n",
            "320/320 [==============================] - 0s 1ms/step - loss: 0.3260 - accuracy: 0.8634\n",
            "Epoch 94/100\n",
            "320/320 [==============================] - 0s 1ms/step - loss: 0.3264 - accuracy: 0.8655\n",
            "Epoch 95/100\n",
            "320/320 [==============================] - 0s 1ms/step - loss: 0.3264 - accuracy: 0.8660\n",
            "Epoch 96/100\n",
            "320/320 [==============================] - 0s 1ms/step - loss: 0.3261 - accuracy: 0.8656\n",
            "Epoch 97/100\n",
            "320/320 [==============================] - 0s 1ms/step - loss: 0.3259 - accuracy: 0.8641\n",
            "Epoch 98/100\n",
            "320/320 [==============================] - 0s 1ms/step - loss: 0.3265 - accuracy: 0.8643\n",
            "Epoch 99/100\n",
            "320/320 [==============================] - 0s 1ms/step - loss: 0.3263 - accuracy: 0.8644\n",
            "Epoch 100/100\n",
            "320/320 [==============================] - 0s 1ms/step - loss: 0.3258 - accuracy: 0.8633\n"
          ],
          "name": "stdout"
        },
        {
          "output_type": "execute_result",
          "data": {
            "text/plain": [
              "<tensorflow.python.keras.callbacks.History at 0x7fd05a2d7f60>"
            ]
          },
          "metadata": {
            "tags": []
          },
          "execution_count": 13
        }
      ]
    },
    {
      "cell_type": "markdown",
      "metadata": {
        "id": "gLLUeJg6mOrZ",
        "colab_type": "text"
      },
      "source": [
        "## Part 3 - Making predictions and evaluating the model\n"
      ]
    },
    {
      "cell_type": "code",
      "metadata": {
        "id": "NblLtNSVmOrb",
        "colab_type": "code",
        "colab": {
          "base_uri": "https://localhost:8080/",
          "height": 136
        },
        "outputId": "2c3d37f4-3e39-40b8-8b04-8f8cf471bd3e"
      },
      "source": [
        "# Predicting the Test set results\n",
        "y_pred = classifier.predict(X_test)\n",
        "y_pred = (y_pred > 0.5)\n",
        "print(np.concatenate((y_test.reshape(-1,1), y_pred.reshape(-1,1)), axis=1))"
      ],
      "execution_count": 14,
      "outputs": [
        {
          "output_type": "stream",
          "text": [
            "[[0 0]\n",
            " [1 0]\n",
            " [0 0]\n",
            " ...\n",
            " [0 0]\n",
            " [0 0]\n",
            " [0 0]]\n"
          ],
          "name": "stdout"
        }
      ]
    },
    {
      "cell_type": "markdown",
      "metadata": {
        "id": "Z4k7RJOuqUOw",
        "colab_type": "text"
      },
      "source": [
        "### predicting a single new observation\n",
        "\n",
        "Predict if the customer with the following imformations will \n",
        "\n",
        "leave the bank or not??\n",
        "\n",
        "Geography: France\n",
        "\n",
        "Credit Score: 600\n",
        "\n",
        "Gender: Male\n",
        "\n",
        "Age: 40\n",
        "\n",
        "Balance: 60000\n",
        "\n",
        "Number of products: 2\n",
        "\n",
        "Has credit card: Yes\n",
        "\n",
        "is Active member: Yes\n",
        "\n",
        "Estimated Salary: 50000\n"
      ]
    },
    {
      "cell_type": "code",
      "metadata": {
        "id": "gPLeqiaYmOrr",
        "colab_type": "code",
        "colab": {
          "base_uri": "https://localhost:8080/",
          "height": 34
        },
        "outputId": "30ff863f-a60b-4dfb-d4ab-664033e630b9"
      },
      "source": [
        "classifier.predict(sc.transform(\n",
        "    [[1, 0, 0, 600, 1, 40, 3, 60000, 2, 1, 1, 50000]])\n",
        ") > 0.5"
      ],
      "execution_count": 18,
      "outputs": [
        {
          "output_type": "execute_result",
          "data": {
            "text/plain": [
              "array([[False]])"
            ]
          },
          "metadata": {
            "tags": []
          },
          "execution_count": 18
        }
      ]
    },
    {
      "cell_type": "code",
      "metadata": {
        "id": "fd0XHdOhmOrx",
        "colab_type": "code",
        "colab": {
          "base_uri": "https://localhost:8080/",
          "height": 51
        },
        "outputId": "e7707e4e-bd33-42d2-ef71-04d2743bd9da"
      },
      "source": [
        "# Making the Confusion Matrix\n",
        "from sklearn.metrics import confusion_matrix, accuracy_score\n",
        "cm = confusion_matrix(y_test, y_pred)\n",
        "cm"
      ],
      "execution_count": 19,
      "outputs": [
        {
          "output_type": "execute_result",
          "data": {
            "text/plain": [
              "array([[1504,   91],\n",
              "       [ 197,  208]])"
            ]
          },
          "metadata": {
            "tags": []
          },
          "execution_count": 19
        }
      ]
    },
    {
      "cell_type": "code",
      "metadata": {
        "id": "LwgQ2cg6mOr4",
        "colab_type": "code",
        "colab": {
          "base_uri": "https://localhost:8080/",
          "height": 34
        },
        "outputId": "066063a8-a3ef-4ac3-c1d4-721c819f930e"
      },
      "source": [
        "accuracy_score(y_test, y_pred)"
      ],
      "execution_count": 20,
      "outputs": [
        {
          "output_type": "execute_result",
          "data": {
            "text/plain": [
              "0.856"
            ]
          },
          "metadata": {
            "tags": []
          },
          "execution_count": 20
        }
      ]
    },
    {
      "cell_type": "code",
      "metadata": {
        "id": "ydOz3iqosxGk",
        "colab_type": "code",
        "colab": {}
      },
      "source": [
        ""
      ],
      "execution_count": null,
      "outputs": []
    }
  ]
}